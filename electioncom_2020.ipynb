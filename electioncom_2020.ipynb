{
 "cells": [
  {
   "cell_type": "code",
   "execution_count": 1,
   "metadata": {},
   "outputs": [
    {
     "ename": "UnboundLocalError",
     "evalue": "local variable 'df_p' referenced before assignment",
     "output_type": "error",
     "traceback": [
      "\u001b[0;31m---------------------------------------------------------------------------\u001b[0m",
      "\u001b[0;31mUnboundLocalError\u001b[0m                         Traceback (most recent call last)",
      "\u001b[0;32m<ipython-input-1-ef8d73f004a2>\u001b[0m in \u001b[0;36m<module>\u001b[0;34m\u001b[0m\n\u001b[1;32m     67\u001b[0m \u001b[0;32mfor\u001b[0m \u001b[0mcounty_folder\u001b[0m \u001b[0;32min\u001b[0m \u001b[0mcounty_folder_list\u001b[0m\u001b[0;34m:\u001b[0m\u001b[0;34m\u001b[0m\u001b[0;34m\u001b[0m\u001b[0m\n\u001b[1;32m     68\u001b[0m     \u001b[0mcounty\u001b[0m \u001b[0;34m=\u001b[0m \u001b[0mcounty_folder\u001b[0m\u001b[0;34m.\u001b[0m\u001b[0msplit\u001b[0m\u001b[0;34m(\u001b[0m\u001b[0;34m'/'\u001b[0m\u001b[0;34m)\u001b[0m\u001b[0;34m[\u001b[0m\u001b[0;34m-\u001b[0m\u001b[0;36m2\u001b[0m\u001b[0;34m]\u001b[0m\u001b[0;34m\u001b[0m\u001b[0;34m\u001b[0m\u001b[0m\n\u001b[0;32m---> 69\u001b[0;31m     \u001b[0mplot_president_vs_senator_per_county\u001b[0m\u001b[0;34m(\u001b[0m\u001b[0mcounty\u001b[0m\u001b[0;34m,\u001b[0m \u001b[0mfig_counter_base\u001b[0m\u001b[0;34m)\u001b[0m\u001b[0;34m\u001b[0m\u001b[0;34m\u001b[0m\u001b[0m\n\u001b[0m\u001b[1;32m     70\u001b[0m     \u001b[0mfig_counter_base\u001b[0m \u001b[0;34m+=\u001b[0m \u001b[0;36m100\u001b[0m\u001b[0;34m\u001b[0m\u001b[0;34m\u001b[0m\u001b[0m\n\u001b[1;32m     71\u001b[0m \u001b[0;34m\u001b[0m\u001b[0m\n",
      "\u001b[0;32m<ipython-input-1-ef8d73f004a2>\u001b[0m in \u001b[0;36mplot_president_vs_senator_per_county\u001b[0;34m(county, fig_counter_base)\u001b[0m\n\u001b[1;32m     23\u001b[0m             \u001b[0mdf_s\u001b[0m \u001b[0;34m=\u001b[0m \u001b[0mdf_dict\u001b[0m\u001b[0;34m[\u001b[0m\u001b[0mx\u001b[0m\u001b[0;34m]\u001b[0m\u001b[0;34m\u001b[0m\u001b[0;34m\u001b[0m\u001b[0m\n\u001b[1;32m     24\u001b[0m \u001b[0;34m\u001b[0m\u001b[0m\n\u001b[0;32m---> 25\u001b[0;31m     \u001b[0mprecincts\u001b[0m \u001b[0;34m=\u001b[0m \u001b[0mdf_p\u001b[0m\u001b[0;34m[\u001b[0m\u001b[0;34m'precinct'\u001b[0m\u001b[0;34m]\u001b[0m\u001b[0;34m.\u001b[0m\u001b[0munique\u001b[0m\u001b[0;34m(\u001b[0m\u001b[0;34m)\u001b[0m\u001b[0;34m\u001b[0m\u001b[0;34m\u001b[0m\u001b[0m\n\u001b[0m\u001b[1;32m     26\u001b[0m     \u001b[0mdf_merge\u001b[0m \u001b[0;34m=\u001b[0m \u001b[0mpd\u001b[0m\u001b[0;34m.\u001b[0m\u001b[0mmerge\u001b[0m\u001b[0;34m(\u001b[0m\u001b[0mdf_p\u001b[0m\u001b[0;34m,\u001b[0m \u001b[0mdf_s\u001b[0m\u001b[0;34m,\u001b[0m \u001b[0msuffixes\u001b[0m\u001b[0;34m=\u001b[0m\u001b[0;34m(\u001b[0m\u001b[0;34m'_p'\u001b[0m\u001b[0;34m,\u001b[0m \u001b[0;34m'_s'\u001b[0m\u001b[0;34m)\u001b[0m\u001b[0;34m)\u001b[0m\u001b[0;34m\u001b[0m\u001b[0;34m\u001b[0m\u001b[0m\n\u001b[1;32m     27\u001b[0m     \u001b[0;32mfor\u001b[0m \u001b[0mx\u001b[0m \u001b[0;32min\u001b[0m \u001b[0mdf_p\u001b[0m\u001b[0;34m.\u001b[0m\u001b[0mcolumns\u001b[0m\u001b[0;34m:\u001b[0m\u001b[0;34m\u001b[0m\u001b[0;34m\u001b[0m\u001b[0m\n",
      "\u001b[0;31mUnboundLocalError\u001b[0m: local variable 'df_p' referenced before assignment"
     ]
    }
   ],
   "source": [
    "# Plot (presidential - senator race)  VS. senator race percentage \n",
    "# All available counties\n",
    "import glob\n",
    "# from utils.charting import plot_president_vs_senator_per_county\n",
    "\n",
    "def plot_president_vs_senator_per_county(county, fig_counter_base):\n",
    "    fig_counter = fig_counter_base\n",
    "    file_list = glob.glob(\n",
    "        f'./election_reporting_com/2020//mi/{county}/*cleaned.csv'\n",
    "    )\n",
    "    \n",
    "    df_dict = {}\n",
    "    df_dict_keys = [\n",
    "        x.split('/')[-1].split('.')[0] for x in file_list\n",
    "    ]\n",
    "    for x, y in zip(df_dict_keys, file_list):\n",
    "        df_dict[x] = pd.read_csv(y)\n",
    "        if 'party' in y:\n",
    "            df_sp = df_dict[x]\n",
    "        elif 'president' in y:\n",
    "            df_p = df_dict[x]\n",
    "        elif 'senator' in y:\n",
    "            df_s = df_dict[x]\n",
    "            \n",
    "    precincts = df_p['precinct'].unique()\n",
    "    df_merge = pd.merge(df_p, df_s, suffixes=('_p', '_s'))\n",
    "    for x in df_p.columns:\n",
    "        if 'biden' in x:\n",
    "            biden_key = x\n",
    "        elif 'trump' in x:\n",
    "            trump_key = x\n",
    "    for x in df_s.columns:\n",
    "        if '_dem' in x:\n",
    "            senator_dem_key = x\n",
    "        elif '_rep' in x:\n",
    "            senator_rep_key = x\n",
    "    for x in df_sp.columns:\n",
    "        if 'democratic_party' in x:\n",
    "            sp_dem_key = x\n",
    "        elif 'republican_party' in x:\n",
    "            sp_reb_key = x\n",
    "\n",
    "    df_diff_dem = df_merge[biden_key] - df_merge[senator_dem_key]\n",
    "    df_diff_rep = df_merge[trump_key] - df_merge[senator_rep_key]\n",
    "    total_senator_series = df_merge[senator_dem_key]+df_merge[senator_rep_key]\n",
    "    df_senator_percentage_dem = df_merge[senator_dem_key]/total_senator_series\n",
    "    df_senator_percentage_rep = df_merge[senator_rep_key]/total_senator_series\n",
    "\n",
    "    fig_counter += 1\n",
    "    plt.figure(fig_counter)\n",
    "    plt.title(f'republican, {state_abbreviation}, {county}')\n",
    "\n",
    "    plt.scatter(df_senator_percentage_rep, df_diff_rep)\n",
    "\n",
    "    fig_counter += 1\n",
    "    plt.figure(fig_counter)\n",
    "    plt.title(f'democrats, {state_abbreviation}, {county}')\n",
    "    plt.scatter(df_senator_percentage_dem, df_diff_dem)\n",
    "    \n",
    "\n",
    "county_folder_list = glob.glob(\n",
    "    './election_reporting_com/2020/mi/*/'\n",
    ")\n",
    "\n",
    "state_abbreviation = 'MI'\n",
    "fig_counter_base = 100\n",
    "for county_folder in county_folder_list:\n",
    "    county = county_folder.split('/')[-2]\n",
    "    plot_president_vs_senator_per_county(county, fig_counter_base)\n",
    "    fig_counter_base += 100\n",
    "    \n",
    "    \n",
    "    \n"
   ]
  },
  {
   "cell_type": "code",
   "execution_count": null,
   "metadata": {},
   "outputs": [],
   "source": []
  }
 ],
 "metadata": {
  "kernelspec": {
   "display_name": "Python 3",
   "language": "python",
   "name": "python3"
  },
  "language_info": {
   "codemirror_mode": {
    "name": "ipython",
    "version": 3
   },
   "file_extension": ".py",
   "mimetype": "text/x-python",
   "name": "python",
   "nbconvert_exporter": "python",
   "pygments_lexer": "ipython3",
   "version": "3.9.0"
  }
 },
 "nbformat": 4,
 "nbformat_minor": 4
}
